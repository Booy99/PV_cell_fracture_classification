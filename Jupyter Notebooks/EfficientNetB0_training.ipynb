{
 "cells": [
  {
   "cell_type": "code",
   "execution_count": 2,
   "id": "671629a0-4fbf-46be-9769-26689d48e7e1",
   "metadata": {},
   "outputs": [],
   "source": [
    "\"\"\"\n",
    "Training EfficientNet-B0 models.\n",
    "NOTE: in order to be able to save the models, TensorFlow must be downgraded to V2.9.1\n",
    "\n",
    "Authors: Paul Rosero & Booy Faassen\n",
    "\"\"\"\n",
    "\n",
    "import tensorflow as tf\n",
    "from tensorflow import keras\n",
    "from keras_flops import get_flops\n",
    "import matplotlib.pyplot as plt\n",
    "from datetime import datetime\n",
    "from tensorflow.keras.applications import EfficientNetB0\n",
    "import psutil\n",
    "import os"
   ]
  },
  {
   "cell_type": "code",
   "execution_count": 5,
   "id": "07b37738-c563-4423-b51a-630247594bf1",
   "metadata": {},
   "outputs": [],
   "source": [
    "#Define some parameters for the loader:\n",
    "batch_size = 32\n",
    "img_height = 224\n",
    "img_width = 224\n",
    "root_dir = './data'\n",
    "class_names=[\"0.0\", \"1.0\"]"
   ]
  },
  {
   "cell_type": "code",
   "execution_count": 6,
   "id": "63d2dcf5-ebbe-4d71-91d4-8b9c78ebc152",
   "metadata": {},
   "outputs": [],
   "source": [
    "\"\"\" Loading the data \"\"\"\n",
    "\n",
    "def split_train_test_set(dataset):\n",
    "    train_dir=root_dir +\"/\" + dataset +\"/\" + \"train\"\n",
    "    test_dir=root_dir + \"/\" + dataset +\"/\" + \"test\"\n",
    "    # Import data from directories and turn it into batches\n",
    "    train_data = tf.keras.preprocessing.image_dataset_from_directory(train_dir,\n",
    "                                                                     labels='inferred',\n",
    "                                                                     seed=123,\n",
    "                                                                     label_mode=\"categorical\",\n",
    "                                                                     color_mode='rgb',\n",
    "                                                                     batch_size=batch_size, \n",
    "                                                                     image_size=(img_height, img_width)\n",
    "                                                                    )\n",
    "\n",
    "    test_data = tf.keras.preprocessing.image_dataset_from_directory(test_dir,\n",
    "                                                                    labels='inferred',\n",
    "                                                                    seed=123,\n",
    "                                                                    label_mode=\"categorical\",\n",
    "                                                                    color_mode='rgb',\n",
    "                                                                    batch_size=batch_size, \n",
    "                                                                    image_size=(img_height, img_width) \n",
    "                                                                   )\n",
    "    return train_data, test_data"
   ]
  },
  {
   "cell_type": "code",
   "execution_count": 7,
   "id": "82650d8a-2c3b-45ac-a49a-0eea58412694",
   "metadata": {},
   "outputs": [],
   "source": [
    "img_augmentation = tf.keras.models.Sequential(\n",
    "    [\n",
    "        tf.keras.layers.RandomRotation(factor=0.15),\n",
    "        tf.keras.layers.RandomTranslation(height_factor=0.1, width_factor=0.1),\n",
    "        tf.keras.layers.RandomFlip(),\n",
    "        tf.keras.layers.RandomContrast(factor=0.1),\n",
    "    ],\n",
    "    name=\"img_augmentation\",\n",
    ")"
   ]
  },
  {
   "cell_type": "code",
   "execution_count": 9,
   "id": "275c50be-ecac-46e9-93ab-06eded1e5f32",
   "metadata": {},
   "outputs": [],
   "source": [
    "\"\"\" Set metrics for later use \"\"\"\n",
    "\n",
    "METRICS = [\n",
    "    tf.keras.metrics.Accuracy(name='acc'),\n",
    "    tf.keras.metrics.TruePositives(name='tp'),\n",
    "    tf.keras.metrics.FalsePositives(name='fp'),\n",
    "    tf.keras.metrics.TrueNegatives(name='tn'),\n",
    "    tf.keras.metrics.FalseNegatives(name='fn'), \n",
    "    tf.keras.metrics.BinaryAccuracy(name='accuracy'),\n",
    "    tf.keras.metrics.Precision(name='precision'),\n",
    "    tf.keras.metrics.Recall(name='recall'),\n",
    "    tf.keras.metrics.AUC(name='auc'),\n",
    "    tf.keras.metrics.AUC(name='prc', curve='PR'), # precision-recall curve\n",
    "]"
   ]
  },
  {
   "cell_type": "code",
   "execution_count": 10,
   "id": "d3343c81-ecea-40ff-8414-c9256b570604",
   "metadata": {},
   "outputs": [],
   "source": [
    "\"\"\" Building the model \"\"\"\n",
    "\n",
    "def build_model(num_classes, aprov_pre=False, metrics=METRICS):\n",
    "    inputs = tf.keras.layers.Input(shape=(img_height,img_width,3))\n",
    "    if aprov_pre==True: # Applies data augmentation & pre-processing\n",
    "        x = img_augmentation(inputs)\n",
    "        model = EfficientNetB0(include_top=False, input_tensor=x, weights=\"imagenet\")\n",
    "        print(\"Augmentation:\",aprov_pre)\n",
    "    else: # No data augmentation & pre-processing\n",
    "        model = EfficientNetB0(include_top=False, input_tensor=inputs, weights=\"imagenet\")\n",
    "        print(\"Augmentation:\",aprov_pre)\n",
    "    # Freeze the pretrained weights\n",
    "    model.trainable = False\n",
    "\n",
    "    # print(model.trainable_weights) should return [] after setting model.trainable = False\n",
    "    \n",
    "    # Rebuild top\n",
    "    x = tf.keras.layers.GlobalAveragePooling2D(name=\"avg_pool\")(model.output)\n",
    "    x = tf.keras.layers.BatchNormalization()(x)\n",
    "\n",
    "    top_dropout_rate = 0.2\n",
    "    x = tf.keras.layers.Dropout(top_dropout_rate, name=\"top_dropout\")(x)\n",
    "    outputs = tf.keras.layers.Dense(num_classes, activation=\"softmax\", name=\"pred\")(x)\n",
    "\n",
    "    # Compile\n",
    "    model = tf.keras.Model(inputs, outputs, name=\"EfficientNet\")\n",
    "    optimizer = tf.keras.optimizers.Adam(learning_rate=1e-2) # 0.01\n",
    "    model.compile(\n",
    "        optimizer=optimizer, loss=\"categorical_crossentropy\", metrics=metrics\n",
    "    )\n",
    "    return model"
   ]
  },
  {
   "cell_type": "code",
   "execution_count": 14,
   "id": "da5c8ceb-054b-4dea-b832-4e73a62532a3",
   "metadata": {},
   "outputs": [],
   "source": [
    "\"\"\" Plotting \"\"\"\n",
    "\n",
    "def plot_hist(hist):\n",
    "    plt.plot(hist.history[\"accuracy\"])\n",
    "    plt.plot(hist.history[\"val_accuracy\"])\n",
    "    plt.title(\"model accuracy\")\n",
    "    plt.ylabel(\"accuracy\")\n",
    "    plt.xlabel(\"epoch\")\n",
    "    plt.legend([\"train\", \"validation\"], loc=\"upper left\")\n",
    "    plt.show()"
   ]
  },
  {
   "cell_type": "code",
   "execution_count": 15,
   "id": "d445c711-d95c-4e1e-b0ee-e0311c335083",
   "metadata": {},
   "outputs": [],
   "source": [
    "\"\"\" Unfreezing layers \"\"\"\n",
    "\n",
    "def unfreeze_model(model, num, metrics=METRICS):\n",
    "    # We unfreeze the top num layers while leaving BatchNorm layers frozen\n",
    "    for layer in model.layers[num:]:\n",
    "        if not isinstance(layer, tf.keras.layers.BatchNormalization):\n",
    "            layer.trainable = True\n",
    "    optimizer = tf.keras.optimizers.Adam(learning_rate=1e-2)\n",
    "    model.compile(\n",
    "        optimizer=optimizer, loss=\"categorical_crossentropy\", metrics=metrics\n",
    "    )"
   ]
  },
  {
   "cell_type": "code",
   "execution_count": 16,
   "id": "caf0e5ff-51f0-46d6-9d9d-575c74526158",
   "metadata": {},
   "outputs": [],
   "source": [
    "def compare_historys(original_history, new_history, initial_epochs=5):\n",
    "    \"\"\"\n",
    "    Compares two model history objects.\n",
    "    \"\"\"\n",
    "    # Get original history measurements\n",
    "    acc = original_history.history[\"accuracy\"]\n",
    "    loss = original_history.history[\"loss\"]\n",
    "\n",
    "    print(len(acc))\n",
    "\n",
    "    val_acc = original_history.history[\"val_accuracy\"]\n",
    "    val_loss = original_history.history[\"val_loss\"]\n",
    "\n",
    "    # Combine original history with new history\n",
    "    total_acc = acc + new_history.history[\"accuracy\"]\n",
    "    total_loss = loss + new_history.history[\"loss\"]\n",
    "\n",
    "    total_val_acc = val_acc + new_history.history[\"val_accuracy\"]\n",
    "    total_val_loss = val_loss + new_history.history[\"val_loss\"]\n",
    "\n",
    "    print(len(total_acc))\n",
    "    print(total_acc)\n",
    "\n",
    "    # Make plots\n",
    "    plt.figure(figsize=(8, 8))\n",
    "    plt.subplot(2, 1, 1)\n",
    "    plt.plot(total_acc, label='Training Accuracy')\n",
    "    plt.plot(total_val_acc, label='Validation Accuracy')\n",
    "    plt.plot([initial_epochs-1, initial_epochs-1],\n",
    "              plt.ylim(), label='Start Fine Tuning') # reshift plot around epochs\n",
    "    plt.legend(loc='lower right')\n",
    "    plt.title('Training and Validation Accuracy')\n",
    "\n",
    "    plt.subplot(2, 1, 2)\n",
    "    plt.plot(total_loss, label='Training Loss')\n",
    "    plt.plot(total_val_loss, label='Validation Loss')\n",
    "    plt.plot([initial_epochs-1, initial_epochs-1],\n",
    "              plt.ylim(), label='Start Fine Tuning') # reshift plot around epochs\n",
    "    plt.legend(loc='upper right')\n",
    "    plt.title('Training and Validation Loss')\n",
    "    plt.xlabel('epoch')\n",
    "    plt.show()"
   ]
  },
  {
   "cell_type": "code",
   "execution_count": 11,
   "id": "79c0d9d1-2570-49f2-a952-a3354e51deee",
   "metadata": {},
   "outputs": [],
   "source": [
    "\"\"\" Initializing datasets and number of epochs \"\"\"\n",
    "\n",
    "datasets=[\"dataset01\"] # add more by seperating with commas\n",
    "epochs_vector=[1]"
   ]
  },
  {
   "cell_type": "code",
   "execution_count": 12,
   "id": "b37d60df-2967-4197-9168-54694b57b097",
   "metadata": {},
   "outputs": [
    {
     "name": "stdout",
     "output_type": "stream",
     "text": [
      "Found 1969 files belonging to 2 classes.\n",
      "Found 655 files belonging to 2 classes.\n",
      "preprocessing: False\n",
      "62/62 [==============================] - 88s 1s/step - loss: 0.9691 - accuracy: 0.7649 - val_loss: 1.0031 - val_accuracy: 0.7000\n",
      "WARNING:tensorflow:From C:\\Users\\booyf\\AppData\\Local\\Programs\\Python\\Python310\\lib\\site-packages\\tensorflow\\python\\profiler\\internal\\flops_registry.py:138: tensor_shape_from_node_def_name (from tensorflow.python.framework.graph_util_impl) is deprecated and will be removed in a future version.\n",
      "Instructions for updating:\n",
      "Use `tf.compat.v1.graph_util.tensor_shape_from_node_def_name`\n",
      "----------------- MODEL----------------------------\n",
      "Dataset: dataset01 Epochs: 1\n",
      "CPU utilization:  28.5\n",
      "The time of execution of above program is : 0:01:29.512707ms\n",
      "Total: 0.70%\n",
      "Individual CPUs: 0.80%  1.60%  0.00%  0.00%  1.60%  0.00%  1.60%  0.00%\n",
      "RAM memory % used: 89.3\n",
      "RAM Used (GB): 7.378354176\n",
      "RAM active (GB): 0.8882176\n",
      "FLOPS: 25.6 G\n",
      "---------------------------------------------------\n"
     ]
    },
    {
     "data": {
      "image/png": "[encoded data removed]",
      "text/plain": [
       "<Figure size 640x480 with 1 Axes>"
      ]
     },
     "metadata": {},
     "output_type": "display_data"
    }
   ],
   "source": [
    "######################## TRANSFER LEARNING MODEL WHITOUT DATA AUGMENTATION ################################\n",
    "for j in datasets:\n",
    "    train_data,test_data=split_train_test_set(j)\n",
    "    for i in epochs_vector:\n",
    "        model = build_model(num_classes=2,aprov_pre=False)\n",
    "        start=datetime.now() \n",
    "        start_cpu=psutil.cpu_percent(interval=1)\n",
    "        hist_m = model.fit(train_data,\n",
    "                    epochs=i,\n",
    "                    steps_per_epoch=len(train_data),\n",
    "                    validation_data=test_data,\n",
    "                    # Go through less of the validation data so epochs are faster (we want faster experiments!)\n",
    "                    validation_steps=int(0.25 * len(test_data)),\n",
    "                    verbose=1 )\n",
    "        end=datetime.now()\n",
    "        end_cpu=psutil.cpu_percent(interval=None)\n",
    "        # find difference loop start and end time and display\n",
    "        td= (end-start)\n",
    "        td_cpu=(end_cpu-start_cpu)\n",
    "        flops = get_flops(model, batch_size=batch_size)\n",
    "        print(\"----------------- MODEL----------------------------\")\n",
    "        print(\"Dataset:\",j,\"Epochs:\",i)\n",
    "        print(\"CPU utilization: \", td_cpu)\n",
    "        print(f\"The time of execution of above program is : {td}ms\")\n",
    "        # Calling psutil.cpu_precent()for 4 seconds\n",
    "        cpu_percent_cores = psutil.cpu_percent(interval=2, percpu=True)\n",
    "        avg = sum(cpu_percent_cores)/len(cpu_percent_cores)\n",
    "        cpu_percent_total_str = ('%.2f' % avg) + '%'\n",
    "        cpu_percent_cores_str = [('%.2f' % x) + '%' for x in cpu_percent_cores]\n",
    "        print('Total: {}'.format(cpu_percent_total_str))\n",
    "        print('Individual CPUs: {}'.format('  '.join(cpu_percent_cores_str)))\n",
    "        # Getting % usage of virtual_memory ( 3rd field)\n",
    "        print('RAM memory % used:', psutil.virtual_memory()[2])\n",
    "        # Getting usage of virtual_memory in GB ( 4th field)\n",
    "        print('RAM Used (GB):',psutil.virtual_memory()[3]/1000000000)\n",
    "        print('RAM active (GB):',psutil.virtual_memory()[4]/1000000000)\n",
    "        print(f\"FLOPS: {flops / 10 ** 9:.03} G\")\n",
    "        print(\"---------------------------------------------------\")\n",
    "        plot_hist(hist_m)"
   ]
  },
  {
   "cell_type": "code",
   "execution_count": 23,
   "id": "031be1f0-dd1b-459a-bee3-8981441505d0",
   "metadata": {},
   "outputs": [
    {
     "name": "stderr",
     "output_type": "stream",
     "text": [
      "WARNING:absl:Found untraced functions such as _jit_compiled_convolution_op, _jit_compiled_convolution_op, _jit_compiled_convolution_op, _jit_compiled_convolution_op, _jit_compiled_convolution_op while saving (showing 5 of 81). These functions will not be directly callable after loading.\n"
     ]
    },
    {
     "name": "stdout",
     "output_type": "stream",
     "text": [
      "INFO:tensorflow:Assets written to: ./data/saved_models/EfficientNet_01\\assets\n"
     ]
    },
    {
     "name": "stderr",
     "output_type": "stream",
     "text": [
      "INFO:tensorflow:Assets written to: ./data/saved_models/EfficientNet_01\\assets\n"
     ]
    }
   ],
   "source": [
    "\"\"\" This method of saving saves the whole TensorFlow program, not only the weights during training \"\"\"\n",
    "\n",
    "tf.saved_model.save(model, './data/saved_models/EfficientNet_01')"
   ]
  },
  {
   "cell_type": "code",
   "execution_count": 24,
   "id": "73817672-3c9e-489c-a248-dd89a14b9131",
   "metadata": {},
   "outputs": [],
   "source": [
    "\"\"\" load model \"\"\"\n",
    "\n",
    "loaded_model = tf.saved_model.load('./data/saved_models/EfficientNet_01')"
   ]
  }
 ],
 "metadata": {
  "kernelspec": {
   "display_name": "Python 3 (ipykernel)",
   "language": "python",
   "name": "python3"
  },
  "language_info": {
   "codemirror_mode": {
    "name": "ipython",
    "version": 3
   },
   "file_extension": ".py",
   "mimetype": "text/x-python",
   "name": "python",
   "nbconvert_exporter": "python",
   "pygments_lexer": "ipython3",
   "version": "3.10.0"
  }
 },
 "nbformat": 4,
 "nbformat_minor": 5
}
