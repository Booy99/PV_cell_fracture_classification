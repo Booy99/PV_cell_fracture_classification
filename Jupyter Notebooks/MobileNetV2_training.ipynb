{
 "cells": [
  {
   "cell_type": "code",
   "execution_count": 61,
   "id": "255956d2-bcfd-4bc8-87b1-36e3dbe90449",
   "metadata": {},
   "outputs": [],
   "source": [
    "\"\"\"\n",
    "Training MobileNetV2 models and re-training the classifier.\n",
    "Authors: Paul Rosero & Booy Faassen\n",
    "\"\"\"\n",
    "\n",
    "import tensorflow as tf\n",
    "from tensorflow.keras.applications import MobileNetV2\n",
    "import numpy as np\n",
    "import matplotlib.pyplot as plt\n",
    "from sklearn.metrics import confusion_matrix, accuracy_score,classification_report\n",
    "from sklearn import metrics\n",
    "import psutil\n",
    "import seaborn as sns\n",
    "import pandas as pd\n",
    "import pathlib\n",
    "from datetime import datetime\n",
    "import os\n",
    "\n",
    "tf.get_logger().setLevel('ERROR') #disable info and warning messages from Tensorflow. Still shows error messages."
   ]
  },
  {
   "cell_type": "code",
   "execution_count": 62,
   "id": "5d0164c6-fdd3-4d87-8ecb-5a8a31b98ff3",
   "metadata": {},
   "outputs": [],
   "source": [
    "#Define some parameters for the loader:\n",
    "img_height = 224\n",
    "img_width = 224\n",
    "root_dir = './data/augmented'\n",
    "class_names=[\"0.0\", \"1.0\"]"
   ]
  },
  {
   "cell_type": "code",
   "execution_count": 63,
   "id": "6e6c6802-2672-4171-9013-e6514fc1cf4f",
   "metadata": {},
   "outputs": [],
   "source": [
    "\"\"\" Loading the data \"\"\"\n",
    "\n",
    "def split_train_test_set(dataset, bs):\n",
    "    train_dir=root_dir +\"/\" + dataset +\"/\" + \"train\"\n",
    "    test_dir=root_dir + \"/\" + dataset +\"/\" + \"test\"\n",
    "    # Import data from directories and turn it into batches\n",
    "    train_data = tf.keras.preprocessing.image_dataset_from_directory(train_dir,\n",
    "                                                                     labels='inferred',\n",
    "                                                                     seed=123,\n",
    "                                                                     label_mode=\"categorical\",\n",
    "                                                                     color_mode='rgb',\n",
    "                                                                     batch_size=bs, # number of images to process at a time \n",
    "                                                                     image_size=(img_height, img_width)\n",
    "                                                                    )\n",
    "\n",
    "    test_data = tf.keras.preprocessing.image_dataset_from_directory(test_dir,\n",
    "                                                                    labels='inferred',\n",
    "                                                                    seed=123,\n",
    "                                                                    label_mode=\"categorical\",\n",
    "                                                                    color_mode='rgb',\n",
    "                                                                    batch_size=bs, # number of images to process at a time \n",
    "                                                                    image_size=(img_height, img_width)   \n",
    "                                                                   )\n",
    "    return train_data, test_data"
   ]
  },
  {
   "cell_type": "code",
   "execution_count": 64,
   "id": "26c83265-fc18-402a-9b07-0df5d099119a",
   "metadata": {},
   "outputs": [],
   "source": [
    "\"\"\" Set metrics for later use \"\"\"\n",
    "\n",
    "METRICS = [\n",
    "    tf.keras.metrics.Accuracy(name='acc'),\n",
    "    tf.keras.metrics.TruePositives(name='tp'),\n",
    "    tf.keras.metrics.FalsePositives(name='fp'),\n",
    "    tf.keras.metrics.TrueNegatives(name='tn'),\n",
    "    tf.keras.metrics.FalseNegatives(name='fn'), \n",
    "    tf.keras.metrics.BinaryAccuracy(name='accuracy'),\n",
    "    tf.keras.metrics.Precision(name='precision'),\n",
    "    tf.keras.metrics.Recall(name='recall'),\n",
    "    tf.keras.metrics.AUC(name='auc'),\n",
    "    tf.keras.metrics.AUC(name='prc', curve='PR'), # precision-recall curve\n",
    "]"
   ]
  },
  {
   "cell_type": "code",
   "execution_count": 65,
   "id": "5a5f9136-6be9-474b-aaef-389459e399f0",
   "metadata": {},
   "outputs": [],
   "source": [
    "def build_model(num_classes, model_path, metrics=METRICS):\n",
    "    inputs = tf.keras.layers.Input(shape=(img_height,img_width,3))\n",
    "    model = MobileNetV2(include_top=False, input_tensor=inputs, weights=model_path)\n",
    "\n",
    "    # Freeze the pretrained weights\n",
    "    model.trainable = False\n",
    "\n",
    "    # Rebuild top\n",
    "    x = tf.keras.layers.GlobalAveragePooling2D(name=\"avg_pool\")(model.output)\n",
    "    x = tf.keras.layers.BatchNormalization()(x)\n",
    "\n",
    "    top_dropout_rate = 0.2\n",
    "    x = tf.keras.layers.Dropout(top_dropout_rate, name=\"top_dropout\")(x)\n",
    "    outputs = tf.keras.layers.Dense(num_classes, activation=\"softmax\", name=\"pred\")(x)\n",
    "\n",
    "    # Compile\n",
    "    model = tf.keras.Model(inputs, outputs, name=\"MobileNetV2\")\n",
    "    optimizer = tf.keras.optimizers.Adam(learning_rate=1e-3) # I set learning rate to 0.001\n",
    "    model.compile(\n",
    "        optimizer=optimizer, loss=\"categorical_crossentropy\", metrics=metrics\n",
    "    )\n",
    "    return model"
   ]
  },
  {
   "cell_type": "code",
   "execution_count": 66,
   "id": "252a18a6-243c-4f8e-ba49-8d0b996aa78e",
   "metadata": {},
   "outputs": [],
   "source": [
    "\"\"\" Training \"\"\"\n",
    "\n",
    "def train(model_path, num_epochs):\n",
    "    model = build_model(num_classes=2, model_path=model_path, metrics=METRICS)\n",
    "    start=datetime.now()\n",
    "    hist_m = model.fit(train_data,\n",
    "                epochs=num_epochs,\n",
    "                steps_per_epoch=len(train_data),\n",
    "                validation_data=test_data,\n",
    "                # Go through less of the validation data so epochs are faster (we want faster experiments!)\n",
    "                validation_steps=int(0.25 * len(test_data)),\n",
    "                verbose=1 )\n",
    "    end=datetime.now()\n",
    "\n",
    "    # find difference loop start and end time and display\n",
    "    td= (end-start)\n",
    "    print(\"----------------- MODEL----------------------------\")\n",
    "    print(f\"The time of execution of above program is : {td}ms\")\n",
    "    # Calling psutil.cpu_precent()for 4 seconds\n",
    "    print('The CPU usage is: ', psutil.cpu_times_percent(5))\n",
    "    # Getting % usage of virtual_memory ( 3rd field)\n",
    "    print('RAM memory % used:', psutil.virtual_memory()[2])\n",
    "    # Getting usage of virtual_memory in GB ( 4th field)\n",
    "    print('RAM Used (GB):',psutil.virtual_memory()[3]/1000000000)\n",
    "    print(\"---------------------------------------------------\")"
   ]
  },
  {
   "cell_type": "code",
   "execution_count": 67,
   "id": "6b6f342a-acd8-4133-8fd0-3dffee5f9d57",
   "metadata": {},
   "outputs": [],
   "source": [
    "\"\"\"\n",
    "Evaluate the model with the test set.\n",
    "Returns a list of all actual labels and predicted labels, respectively.\n",
    "\"\"\"\n",
    "\n",
    "def evaluate_model(model, test_data):\n",
    "    \n",
    "    img_batch, label_batch = iter(test_data).next()\n",
    "    \n",
    "    label_list = []\n",
    "    prediction_list = []\n",
    "    \n",
    "    for i in range(len(label_batch)):\n",
    "        label_list.append(int(label_batch.numpy()[i][1]))\n",
    "\n",
    "    # Run predictions on every image in test_data.\n",
    "    preds = model.predict(img_batch.numpy(), verbose=0)\n",
    "    for i in range(len(preds)):\n",
    "        prediction_list.append(round(preds[i][1]))\n",
    "\n",
    "    return label_list, prediction_list"
   ]
  },
  {
   "cell_type": "code",
   "execution_count": 68,
   "id": "ef673f2f-eac5-42a9-b418-f74f8eeeb956",
   "metadata": {},
   "outputs": [],
   "source": [
    "\"\"\"\n",
    "Plots the confusion matrixs for a given list of actual labels and corresponding predictions.\n",
    "Partially copied from: https://www.tensorflow.org/tutorials/structured_data/imbalanced_data#evaluate_metrics\n",
    "\"\"\"\n",
    "\n",
    "def plot_cm(labels, predictions, p=0.5):\n",
    "    cm = confusion_matrix(labels, predictions) # predictions > p) # I took this out\n",
    "    plt.figure(figsize=(5,5))\n",
    "    sns.heatmap(cm, annot=True, fmt=\"d\")\n",
    "    plt.title('Confusion matrix @{:.2f}'.format(p)) # I am not sure if it actually evaluates at 0.5...?\n",
    "    plt.ylabel('Actual label')\n",
    "    plt.xlabel('Predicted label')\n",
    "\n",
    "    print('True Negatives:', cm[0][0])\n",
    "    print('False Positives:', cm[0][1])\n",
    "    print('False Negatives:', cm[1][0])\n",
    "    print('True Positives:', cm[1][1])\n",
    "    print('Accuracy:', ((cm[0][0]+cm[1][1]) / (cm[0][0]+cm[0][1]+cm[1][0]+cm[1][1])))\n",
    "    print('Recall:', (cm[1][1]/(cm[1][1]+cm[1][0])))\n",
    "    print('Precision:', (cm[1][1]/(cm[1][1]+cm[0][1]))) "
   ]
  },
  {
   "cell_type": "code",
   "execution_count": 69,
   "id": "c03289f9-bf57-43b6-87cd-5f86922121f8",
   "metadata": {},
   "outputs": [],
   "source": [
    "\"\"\" Re-train for 5 epochs, save model, run inference \"\"\"\n",
    "\n",
    "def compute(model_name, dataset):\n",
    "    model_path = '../../Results/mobilenet/mobilenet/' + model_name\n",
    "    train_data, test_data = split_train_test_set(dataset, bs=32)\n",
    "    \n",
    "    train(model_path=model_path, num_epochs=5)\n",
    "    \n",
    "    print('accuracy:', hist_m.history['accuracy'][num_epochs-1])\n",
    "    \n",
    "    model.save('../../Results/mobilenet/mobilenet_retrained/' + model_name + '_v2')\n",
    "    \n",
    "    new_batch_size = len(os.listdir('./data/augmented/'+dataset+'/test/0.0')) + len(os.listdir('./data/augmented/'+dataset+'/test/1.0'))\n",
    "    print(new_batch_size)\n",
    "    \n",
    "    \"\"\"To run plot_CM\"\"\"\n",
    "\n",
    "    train_ds, test_ds = split_train_test_set(dataset, bs=new_batch_size) # make sure bs = lenth of test set\n",
    "    label_list, prediction_list = evaluate_model(model, test_ds)\n",
    "    plot_cm(label_list, prediction_list)"
   ]
  },
  {
   "cell_type": "code",
   "execution_count": 73,
   "id": "be6c2f11-c467-48a4-89d4-a8d087d1a056",
   "metadata": {},
   "outputs": [
    {
     "name": "stdout",
     "output_type": "stream",
     "text": [
      "Found 2231 files belonging to 2 classes.\n",
      "Found 747 files belonging to 2 classes.\n",
      "Epoch 1/5\n",
      "70/70 [==============================] - 71s 925ms/step - loss: 0.5802 - acc: 0.0000e+00 - tp: 1662.0000 - fp: 761.0000 - tn: 1662.0000 - fn: 761.0000 - accuracy: 0.6859 - precision: 0.6859 - recall: 0.6859 - auc: 0.7612 - prc: 0.7628 - val_loss: 2.4128 - val_acc: 0.0000e+00 - val_tp: 89.0000 - val_fp: 103.0000 - val_tn: 89.0000 - val_fn: 103.0000 - val_accuracy: 0.4635 - val_precision: 0.4635 - val_recall: 0.4635 - val_auc: 0.5819 - val_prc: 0.6042\n",
      "Epoch 2/5\n",
      "70/70 [==============================] - 59s 847ms/step - loss: 0.5348 - acc: 0.0000e+00 - tp: 1622.0000 - fp: 609.0000 - tn: 1622.0000 - fn: 609.0000 - accuracy: 0.7270 - precision: 0.7270 - recall: 0.7270 - auc: 0.8048 - prc: 0.8047 - val_loss: 1.3508 - val_acc: 0.0000e+00 - val_tp: 87.0000 - val_fp: 105.0000 - val_tn: 87.0000 - val_fn: 105.0000 - val_accuracy: 0.4531 - val_precision: 0.4531 - val_recall: 0.4531 - val_auc: 0.6032 - val_prc: 0.6588\n",
      "Epoch 3/5\n",
      "70/70 [==============================] - 59s 845ms/step - loss: 0.5194 - acc: 0.0000e+00 - tp: 1645.0000 - fp: 586.0000 - tn: 1645.0000 - fn: 586.0000 - accuracy: 0.7373 - precision: 0.7373 - recall: 0.7373 - auc: 0.8154 - prc: 0.8173 - val_loss: 0.8254 - val_acc: 0.0000e+00 - val_tp: 99.0000 - val_fp: 93.0000 - val_tn: 99.0000 - val_fn: 93.0000 - val_accuracy: 0.5156 - val_precision: 0.5156 - val_recall: 0.5156 - val_auc: 0.6707 - val_prc: 0.7145\n",
      "Epoch 4/5\n",
      "70/70 [==============================] - 58s 822ms/step - loss: 0.5075 - acc: 0.0000e+00 - tp: 1656.0000 - fp: 575.0000 - tn: 1656.0000 - fn: 575.0000 - accuracy: 0.7423 - precision: 0.7423 - recall: 0.7423 - auc: 0.8250 - prc: 0.8274 - val_loss: 0.7066 - val_acc: 0.0000e+00 - val_tp: 104.0000 - val_fp: 88.0000 - val_tn: 104.0000 - val_fn: 88.0000 - val_accuracy: 0.5417 - val_precision: 0.5417 - val_recall: 0.5417 - val_auc: 0.6197 - val_prc: 0.6577\n",
      "Epoch 5/5\n",
      "70/70 [==============================] - 60s 859ms/step - loss: 0.4954 - acc: 0.0000e+00 - tp: 1670.0000 - fp: 561.0000 - tn: 1670.0000 - fn: 561.0000 - accuracy: 0.7485 - precision: 0.7485 - recall: 0.7485 - auc: 0.8348 - prc: 0.8370 - val_loss: 0.5914 - val_acc: 0.0000e+00 - val_tp: 125.0000 - val_fp: 67.0000 - val_tn: 125.0000 - val_fn: 67.0000 - val_accuracy: 0.6510 - val_precision: 0.6510 - val_recall: 0.6510 - val_auc: 0.7421 - val_prc: 0.7609\n",
      "----------------- MODEL----------------------------\n",
      "The time of execution of above program is : 0:05:07.501870ms\n",
      "The CPU usage is:  scputimes(user=0.0, system=0.2, idle=99.8, interrupt=0.0, dpc=0.0)\n",
      "RAM memory % used: 83.2\n",
      "RAM Used (GB): 6.874763264\n",
      "---------------------------------------------------\n",
      "accuracy: 0.757507860660553\n"
     ]
    },
    {
     "name": "stderr",
     "output_type": "stream",
     "text": [
      "WARNING:absl:Found untraced functions such as _jit_compiled_convolution_op, _jit_compiled_convolution_op, _jit_compiled_convolution_op, _jit_compiled_convolution_op, _jit_compiled_convolution_op while saving (showing 5 of 52). These functions will not be directly callable after loading.\n"
     ]
    },
    {
     "name": "stdout",
     "output_type": "stream",
     "text": [
      "747\n",
      "Found 2231 files belonging to 2 classes.\n",
      "Found 747 files belonging to 2 classes.\n",
      "True Negatives: 257\n",
      "False Positives: 120\n",
      "False Negatives: 96\n",
      "True Positives: 274\n",
      "Accuracy: 0.7108433734939759\n",
      "Recall: 0.7405405405405405\n",
      "Precision: 0.6954314720812182\n"
     ]
    },
    {
     "data": {
      "image/png": "[encoded data removed]",
      "text/plain": [
       "<Figure size 500x500 with 2 Axes>"
      ]
     },
     "metadata": {},
     "output_type": "display_data"
    }
   ],
   "source": [
    "compute('mobilenet_test3_dataset06', 'dataset06_aug')"
   ]
  }
 ],
 "metadata": {
  "kernelspec": {
   "display_name": "Python 3 (ipykernel)",
   "language": "python",
   "name": "python3"
  },
  "language_info": {
   "codemirror_mode": {
    "name": "ipython",
    "version": 3
   },
   "file_extension": ".py",
   "mimetype": "text/x-python",
   "name": "python",
   "nbconvert_exporter": "python",
   "pygments_lexer": "ipython3",
   "version": "3.10.0"
  }
 },
 "nbformat": 4,
 "nbformat_minor": 5
}
